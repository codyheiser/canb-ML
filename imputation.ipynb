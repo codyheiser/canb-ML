{
 "cells": [
  {
   "cell_type": "markdown",
   "metadata": {},
   "source": [
    "#### CANB8347 Machine Learning Project\n",
    "Given annotated dataset, develop a supervised machine learning method to predict live births from multi-dimensional data  \n",
    "##### 1) Imputation"
   ]
  },
  {
   "cell_type": "code",
   "execution_count": 1,
   "metadata": {},
   "outputs": [],
   "source": [
    "import numpy as np\n",
    "import pandas as pd\n",
    "import scipy as sc\n",
    "\n",
    "# sklearn tools\n",
    "from sklearn.preprocessing import normalize\n",
    "from sklearn.impute import SimpleImputer\n",
    "from sklearn.decomposition import PCA\n",
    "from sklearn.ensemble import RandomForestClassifier\n",
    "\n",
    "# plotting tools\n",
    "import matplotlib.pyplot as plt\n",
    "import seaborn as sns; sns.set(style = 'white')\n",
    "%matplotlib inline"
   ]
  },
  {
   "cell_type": "code",
   "execution_count": 2,
   "metadata": {},
   "outputs": [
    {
     "data": {
      "text/plain": [
       "(513, 32)"
      ]
     },
     "execution_count": 2,
     "metadata": {},
     "output_type": "execute_result"
    }
   ],
   "source": [
    "# read the 'numerified' data from .csv file\n",
    "vlbw = pd.read_csv('data/vlbw_train_numeric.csv')\n",
    "# ensure expected number of observations and features\n",
    "vlbw.shape"
   ]
  },
  {
   "cell_type": "code",
   "execution_count": 3,
   "metadata": {},
   "outputs": [
    {
     "data": {
      "text/plain": [
       "birth         1\n",
       "exit          8\n",
       "hospstay      8\n",
       "lowph        30\n",
       "pltct        37\n",
       "gest          1\n",
       "lol         160\n",
       "apg1         10\n",
       "vent          6\n",
       "pneumo        2\n",
       "pda           4\n",
       "cld          38\n",
       "pvh         107\n",
       "ivh         106\n",
       "ipe         106\n",
       "year          1\n",
       "dtype: int64"
      ]
     },
     "execution_count": 3,
     "metadata": {},
     "output_type": "execute_result"
    }
   ],
   "source": [
    "# look at features with missing observations\n",
    "vlbw.isnull().sum()[vlbw.isnull().sum()>0]"
   ]
  },
  {
   "cell_type": "markdown",
   "metadata": {},
   "source": [
    "We want to replace `NaN` values with the median in their column for all features _except the following_:\n",
    "* `lol`: mean/median value of vaginal births\n",
    "* `pvh`, `ivh`, & `ipe`: use random forest classifier to impute"
   ]
  },
  {
   "cell_type": "code",
   "execution_count": 4,
   "metadata": {},
   "outputs": [],
   "source": [
    "# insert median lol for vaginal births into missing values\n",
    "lol_val = np.nanmedian(vlbw[vlbw.delivery_vaginal==1]['lol'])\n",
    "vlbw.loc[vlbw.lol.isnull(), 'lol'] = lol_val"
   ]
  },
  {
   "cell_type": "code",
   "execution_count": 5,
   "metadata": {},
   "outputs": [],
   "source": [
    "# replace missing values with the median of the other values\n",
    "vlbw.fillna(value={'birth':np.nanmedian(vlbw.birth),'exit':np.nanmedian(vlbw.exit),'hospstay':np.nanmedian(vlbw.hospstay),'lowph':np.nanmedian(vlbw.lowph),\n",
    "                  'pltct':np.nanmedian(vlbw.pltct),'gest':np.nanmedian(vlbw.gest),'apg1':np.nanmedian(vlbw.apg1),'vent':np.nanmedian(vlbw.vent),\n",
    "                  'pneumo':np.nanmedian(vlbw.pneumo),'pda':np.nanmedian(vlbw.pda),'cld':np.nanmedian(vlbw.cld),'year':np.nanmedian(vlbw.year)}, inplace=True)"
   ]
  },
  {
   "cell_type": "code",
   "execution_count": 6,
   "metadata": {},
   "outputs": [
    {
     "data": {
      "text/plain": [
       "pvh    107\n",
       "ivh    106\n",
       "ipe    106\n",
       "dtype: int64"
      ]
     },
     "execution_count": 6,
     "metadata": {},
     "output_type": "execute_result"
    }
   ],
   "source": [
    "# look at remaining features with missing observations\n",
    "vlbw.isnull().sum()[vlbw.isnull().sum()>0]"
   ]
  },
  {
   "cell_type": "markdown",
   "metadata": {},
   "source": [
    "---\n",
    "Now feed the rows with known `ivh`, `pvh`, and `ipe` values into a random forest classifier to impute the unknowns"
   ]
  },
  {
   "cell_type": "code",
   "execution_count": 7,
   "metadata": {},
   "outputs": [],
   "source": [
    "# ignore the columns we're trying to impute\n",
    "vlbw_imputetrainer = vlbw.drop(['ivh','pvh','ipe'], axis=1)"
   ]
  },
  {
   "cell_type": "code",
   "execution_count": 8,
   "metadata": {},
   "outputs": [],
   "source": [
    "# starting with pvh, make training set the obs with pvh and predicting set the obs w/o pvh values\n",
    "fit = vlbw_imputetrainer[-vlbw.pvh.isnull() & -vlbw.pvh.isnull() & -vlbw.pvh.isnull()]\n",
    "predict = vlbw_imputetrainer[vlbw.pvh.isnull() & vlbw.pvh.isnull() & vlbw.pvh.isnull()]"
   ]
  },
  {
   "cell_type": "code",
   "execution_count": 9,
   "metadata": {},
   "outputs": [],
   "source": [
    "# get labels of training set\n",
    "fit_labels = vlbw.loc[-vlbw.pvh.isnull() & -vlbw.pvh.isnull() & -vlbw.pvh.isnull(), 'pvh']"
   ]
  },
  {
   "cell_type": "code",
   "execution_count": 10,
   "metadata": {},
   "outputs": [],
   "source": [
    "# normalize each column to fractional representation between 0 and 1\n",
    "fit_norm = normalize(fit, axis=1, norm='l1')"
   ]
  },
  {
   "cell_type": "code",
   "execution_count": 11,
   "metadata": {},
   "outputs": [
    {
     "data": {
      "text/plain": [
       "0.9137931034482759"
      ]
     },
     "execution_count": 11,
     "metadata": {},
     "output_type": "execute_result"
    }
   ],
   "source": [
    "# random forest classifier\n",
    "clf = RandomForestClassifier(n_estimators=100, max_depth=10, random_state=0)\n",
    "clf.fit(fit_norm, fit_labels)\n",
    "clf.score(fit_norm, fit_labels)"
   ]
  },
  {
   "cell_type": "code",
   "execution_count": 12,
   "metadata": {},
   "outputs": [],
   "source": [
    "predict_norm = normalize(predict, axis=1, norm='l1')"
   ]
  },
  {
   "cell_type": "code",
   "execution_count": 13,
   "metadata": {},
   "outputs": [],
   "source": [
    "pvh_prediction = clf.predict(predict_norm)"
   ]
  },
  {
   "cell_type": "markdown",
   "metadata": {},
   "source": [
    "---"
   ]
  },
  {
   "cell_type": "code",
   "execution_count": 14,
   "metadata": {},
   "outputs": [],
   "source": [
    "# now ivh, make training set the obs with ivh and predicting set the obs w/o ivh values\n",
    "fit = vlbw_imputetrainer[-vlbw.ivh.isnull() & -vlbw.ivh.isnull() & -vlbw.ivh.isnull()]\n",
    "predict = vlbw_imputetrainer[vlbw.ivh.isnull() & vlbw.ivh.isnull() & vlbw.ivh.isnull()]"
   ]
  },
  {
   "cell_type": "code",
   "execution_count": 15,
   "metadata": {},
   "outputs": [],
   "source": [
    "# get labels of training set\n",
    "fit_labels = vlbw.loc[-vlbw.ivh.isnull() & -vlbw.ivh.isnull() & -vlbw.ivh.isnull(), 'ivh']"
   ]
  },
  {
   "cell_type": "code",
   "execution_count": 16,
   "metadata": {},
   "outputs": [],
   "source": [
    "# normalize each column to fractional representation between 0 and 1\n",
    "fit_norm = normalize(fit, axis=1, norm='l1')"
   ]
  },
  {
   "cell_type": "code",
   "execution_count": 17,
   "metadata": {},
   "outputs": [
    {
     "data": {
      "text/plain": [
       "0.9828009828009828"
      ]
     },
     "execution_count": 17,
     "metadata": {},
     "output_type": "execute_result"
    }
   ],
   "source": [
    "# random forest classifier\n",
    "clf = RandomForestClassifier(n_estimators=100, max_depth=10, random_state=0)\n",
    "clf.fit(fit_norm, fit_labels)\n",
    "clf.score(fit_norm, fit_labels)"
   ]
  },
  {
   "cell_type": "code",
   "execution_count": 18,
   "metadata": {},
   "outputs": [],
   "source": [
    "predict_norm = normalize(predict, axis=1, norm='l1')"
   ]
  },
  {
   "cell_type": "code",
   "execution_count": 19,
   "metadata": {},
   "outputs": [],
   "source": [
    "ivh_prediction = clf.predict(predict_norm)"
   ]
  },
  {
   "cell_type": "markdown",
   "metadata": {},
   "source": [
    "---"
   ]
  },
  {
   "cell_type": "code",
   "execution_count": 20,
   "metadata": {},
   "outputs": [],
   "source": [
    "# now ipe, make training set the obs with ipe and predicting set the obs w/o ipe values\n",
    "fit = vlbw_imputetrainer[-vlbw.ipe.isnull() & -vlbw.ipe.isnull() & -vlbw.ipe.isnull()]\n",
    "predict = vlbw_imputetrainer[vlbw.ipe.isnull() & vlbw.ipe.isnull() & vlbw.ipe.isnull()]"
   ]
  },
  {
   "cell_type": "code",
   "execution_count": 21,
   "metadata": {},
   "outputs": [],
   "source": [
    "# get labels of training set\n",
    "fit_labels = vlbw.loc[-vlbw.ipe.isnull() & -vlbw.ipe.isnull() & -vlbw.ipe.isnull(), 'ipe']"
   ]
  },
  {
   "cell_type": "code",
   "execution_count": 22,
   "metadata": {},
   "outputs": [],
   "source": [
    "# normalize each column to fractional representation between 0 and 1\n",
    "fit_norm = normalize(fit, axis=1, norm='l1')"
   ]
  },
  {
   "cell_type": "code",
   "execution_count": 23,
   "metadata": {},
   "outputs": [
    {
     "data": {
      "text/plain": [
       "0.9705159705159705"
      ]
     },
     "execution_count": 23,
     "metadata": {},
     "output_type": "execute_result"
    }
   ],
   "source": [
    "# random forest classifier\n",
    "clf = RandomForestClassifier(n_estimators=100, max_depth=10, random_state=0)\n",
    "clf.fit(fit_norm, fit_labels)\n",
    "clf.score(fit_norm, fit_labels)"
   ]
  },
  {
   "cell_type": "code",
   "execution_count": 24,
   "metadata": {},
   "outputs": [],
   "source": [
    "predict_norm = normalize(predict, axis=1, norm='l1')"
   ]
  },
  {
   "cell_type": "code",
   "execution_count": 25,
   "metadata": {},
   "outputs": [],
   "source": [
    "ipe_prediction = clf.predict(predict_norm)"
   ]
  },
  {
   "cell_type": "markdown",
   "metadata": {},
   "source": [
    "---\n",
    "Add predictions back to original dataframe and we should have a completely imputed training set"
   ]
  },
  {
   "cell_type": "code",
   "execution_count": 26,
   "metadata": {},
   "outputs": [],
   "source": [
    "vlbw.loc[vlbw.pvh.isnull(), 'pvh'] = pvh_prediction\n",
    "vlbw.loc[vlbw.ivh.isnull(), 'ivh'] = ivh_prediction\n",
    "vlbw.loc[vlbw.ipe.isnull(), 'ipe'] = ipe_prediction"
   ]
  },
  {
   "cell_type": "code",
   "execution_count": 28,
   "metadata": {},
   "outputs": [
    {
     "data": {
      "text/plain": [
       "Series([], dtype: int64)"
      ]
     },
     "execution_count": 28,
     "metadata": {},
     "output_type": "execute_result"
    }
   ],
   "source": [
    "# make sure we don't have any more empty values\n",
    "vlbw.isnull().sum()[vlbw.isnull().sum()>0]"
   ]
  },
  {
   "cell_type": "markdown",
   "metadata": {},
   "source": [
    "Bingo.  Now perform PCA to evaluate variability in resulting dataset."
   ]
  },
  {
   "cell_type": "markdown",
   "metadata": {},
   "source": [
    "---\n",
    "#### Look at principal components and see where highest explained variance lies"
   ]
  },
  {
   "cell_type": "code",
   "execution_count": 29,
   "metadata": {},
   "outputs": [],
   "source": [
    "# normalize each column to fractional representation between 0 and 1\n",
    "vlbw_norm = normalize(vlbw, axis=1, norm='l1')"
   ]
  },
  {
   "cell_type": "code",
   "execution_count": 32,
   "metadata": {},
   "outputs": [],
   "source": [
    "# perform principal component analysis on entire imputed dataset\n",
    "vlbw_PCA_fit = PCA(n_components=5).fit(vlbw_norm)\n",
    "vlbw_PCA = vlbw_PCA_fit.transform(vlbw_norm)"
   ]
  },
  {
   "cell_type": "code",
   "execution_count": 33,
   "metadata": {},
   "outputs": [
    {
     "data": {
      "image/png": "[encoded data removed]",
      "text/plain": [
       "<Figure size 720x360 with 2 Axes>"
      ]
     },
     "metadata": {
      "needs_background": "light"
     },
     "output_type": "display_data"
    }
   ],
   "source": [
    "# plot PCA results for first two PCs, colored by desired label (live birth)\n",
    "plt.figure(figsize=(10,5))\n",
    "\n",
    "plt.subplot(121)\n",
    "sns.scatterplot(x=vlbw_PCA[:,0], y=vlbw_PCA[:,1], s=75, alpha=0.7, hue=vlbw['dead'], legend=None, edgecolor='none')\n",
    "plt.tick_params(labelbottom=False, labelleft=False)\n",
    "plt.ylabel('PC2', fontsize=14)\n",
    "plt.xlabel('PC1', fontsize=14)\n",
    "plt.title('PCA', fontsize=16)\n",
    "\n",
    "plt.subplot(122)\n",
    "plt.plot(np.cumsum(np.round(vlbw_PCA_fit.explained_variance_ratio_, decimals=3)*100))\n",
    "plt.tick_params(labelsize=12)\n",
    "plt.ylabel('% Variance Explained', fontsize=14)\n",
    "plt.xlabel('# of Features', fontsize=14)\n",
    "plt.title('PCA Analysis', fontsize=16)\n",
    "\n",
    "sns.despine()\n",
    "plt.tight_layout()\n",
    "plt.show()"
   ]
  },
  {
   "cell_type": "code",
   "execution_count": 34,
   "metadata": {},
   "outputs": [
    {
     "data": {
      "text/plain": [
       "bwt                      1.0\n",
       "apg1                     2.0\n",
       "delivery_abdominal       3.0\n",
       "race_white               4.0\n",
       "twn                      5.0\n",
       "meth                     6.0\n",
       "race_native American     7.0\n",
       "race_oriental            8.0\n",
       "magsulf                  9.0\n",
       "toc                     10.0\n",
       "inout_transported       11.0\n",
       "pneumo                  12.0\n",
       "sex_female              13.0\n",
       "sex_male                14.0\n",
       "ipe                     15.0\n",
       "inout_born at Duke      16.0\n",
       "pda                     17.0\n",
       "ivh                     18.0\n",
       "pvh                     19.0\n",
       "race_black              20.0\n",
       "delivery_vaginal        21.0\n",
       "dead                    22.0\n",
       "cld                     23.0\n",
       "vent                    24.0\n",
       "lowph                   25.0\n",
       "gest                    26.0\n",
       "lol                     27.0\n",
       "birth                   28.0\n",
       "year                    29.0\n",
       "exit                    30.0\n",
       "hospstay                31.0\n",
       "pltct                   32.0\n",
       "Name: 0, dtype: float64"
      ]
     },
     "execution_count": 34,
     "metadata": {},
     "output_type": "execute_result"
    }
   ],
   "source": [
    "# we can extract the contribution of each feature to each PC\n",
    "PCfeatures = pd.DataFrame(vlbw_PCA_fit.components_, columns=vlbw.columns)\n",
    "# look at top 10 features that contribute to PC1, in descending order\n",
    "PCfeatures.iloc[0,:].rank().sort_values()"
   ]
  },
  {
   "cell_type": "markdown",
   "metadata": {},
   "source": [
    "birth, exit, year, and hospital stay seem pretty useless, and they're at the bottom of PC1 of our PCA in terms of contributed variance.  \n",
    "Let's throw them out."
   ]
  },
  {
   "cell_type": "code",
   "execution_count": 35,
   "metadata": {},
   "outputs": [],
   "source": [
    "vlbw.drop(['birth','exit','hospstay','year'], axis=1, inplace=True)"
   ]
  },
  {
   "cell_type": "markdown",
   "metadata": {},
   "source": [
    "Now perform PCA again and see how it looks."
   ]
  },
  {
   "cell_type": "code",
   "execution_count": 36,
   "metadata": {},
   "outputs": [],
   "source": [
    "# normalize each column to fractional representation between 0 and 1\n",
    "vlbw_norm = normalize(vlbw, axis=1, norm='l1')"
   ]
  },
  {
   "cell_type": "code",
   "execution_count": 37,
   "metadata": {},
   "outputs": [],
   "source": [
    "# perform principal component analysis on entire imputed dataset\n",
    "vlbw_PCA_fit = PCA(n_components=5).fit(vlbw_norm)\n",
    "vlbw_PCA = vlbw_PCA_fit.transform(vlbw_norm)"
   ]
  },
  {
   "cell_type": "code",
   "execution_count": 38,
   "metadata": {},
   "outputs": [
    {
     "data": {
      "image/png": "[encoded data removed]",
      "text/plain": [
       "<Figure size 720x360 with 2 Axes>"
      ]
     },
     "metadata": {
      "needs_background": "light"
     },
     "output_type": "display_data"
    }
   ],
   "source": [
    "# plot PCA results for first two PCs, colored by desired label (live birth)\n",
    "plt.figure(figsize=(10,5))\n",
    "\n",
    "plt.subplot(121)\n",
    "sns.scatterplot(x=vlbw_PCA[:,0], y=vlbw_PCA[:,1], s=75, alpha=0.7, hue=vlbw['dead'], legend=None, edgecolor='none')\n",
    "plt.tick_params(labelbottom=False, labelleft=False)\n",
    "plt.ylabel('PC2', fontsize=14)\n",
    "plt.xlabel('PC1', fontsize=14)\n",
    "plt.title('PCA', fontsize=16)\n",
    "\n",
    "plt.subplot(122)\n",
    "plt.plot(np.cumsum(np.round(vlbw_PCA_fit.explained_variance_ratio_, decimals=3)*100))\n",
    "plt.tick_params(labelsize=12)\n",
    "plt.ylabel('% Variance Explained', fontsize=14)\n",
    "plt.xlabel('# of Features', fontsize=14)\n",
    "plt.title('PCA Analysis', fontsize=16)\n",
    "\n",
    "sns.despine()\n",
    "plt.tight_layout()\n",
    "plt.show()"
   ]
  },
  {
   "cell_type": "code",
   "execution_count": 39,
   "metadata": {},
   "outputs": [],
   "source": [
    "# save the 'imputed' data as .csv file\n",
    "vlbw.to_csv('data/vlbw_train_imputed.csv', index=False)"
   ]
  },
  {
   "cell_type": "code",
   "execution_count": 48,
   "metadata": {},
   "outputs": [
    {
     "data": {
      "text/plain": [
       "342"
      ]
     },
     "execution_count": 48,
     "metadata": {},
     "output_type": "execute_result"
    }
   ],
   "source": [
    "np.argmax(vlbw_PCA[:,1])"
   ]
  },
  {
   "cell_type": "code",
   "execution_count": 50,
   "metadata": {},
   "outputs": [
    {
     "data": {
      "text/plain": [
       "lowph                     7.199997\n",
       "pltct                   131.000000\n",
       "bwt                     460.000000\n",
       "gest                     23.000000\n",
       "twn                       0.000000\n",
       "lol                     174.000000\n",
       "magsulf                   0.000000\n",
       "meth                      0.000000\n",
       "toc                       0.000000\n",
       "apg1                      1.000000\n",
       "vent                      1.000000\n",
       "pneumo                    1.000000\n",
       "pda                       1.000000\n",
       "cld                       0.000000\n",
       "pvh                       0.000000\n",
       "ivh                       2.000000\n",
       "ipe                       2.000000\n",
       "dead                      1.000000\n",
       "race_white                0.000000\n",
       "race_black                1.000000\n",
       "race_native American      0.000000\n",
       "race_oriental             0.000000\n",
       "inout_born at Duke        1.000000\n",
       "inout_transported         0.000000\n",
       "delivery_abdominal        0.000000\n",
       "delivery_vaginal          1.000000\n",
       "sex_female                1.000000\n",
       "sex_male                  0.000000\n",
       "Name: 342, dtype: float64"
      ]
     },
     "execution_count": 50,
     "metadata": {},
     "output_type": "execute_result"
    }
   ],
   "source": [
    "vlbw.iloc[342,:]"
   ]
  },
  {
   "cell_type": "code",
   "execution_count": null,
   "metadata": {},
   "outputs": [],
   "source": []
  }
 ],
 "metadata": {
  "kernelspec": {
   "display_name": "Python 3",
   "language": "python",
   "name": "python3"
  },
  "language_info": {
   "codemirror_mode": {
    "name": "ipython",
    "version": 3
   },
   "file_extension": ".py",
   "mimetype": "text/x-python",
   "name": "python",
   "nbconvert_exporter": "python",
   "pygments_lexer": "ipython3",
   "version": "3.6.5"
  }
 },
 "nbformat": 4,
 "nbformat_minor": 2
}
