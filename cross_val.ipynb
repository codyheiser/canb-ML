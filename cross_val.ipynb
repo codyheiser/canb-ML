{
 "cells": [
  {
   "cell_type": "markdown",
   "metadata": {},
   "source": [
    "#### CANB8347 Machine Learning Project\n",
    "Trying out supervised ML methods on pre-cleaned and imputed dataset\n",
    "##### 3) Algorithm Validation"
   ]
  },
  {
   "cell_type": "code",
   "execution_count": 1,
   "metadata": {},
   "outputs": [],
   "source": [
    "from ml_utils import *\n",
    "\n",
    "# sklearn tools\n",
    "from sklearn.preprocessing import normalize\n",
    "from sklearn.linear_model import LogisticRegressionCV\n",
    "from sklearn.neighbors import KNeighborsClassifier\n",
    "from sklearn.ensemble import RandomForestClassifier\n",
    "\n",
    "%matplotlib inline"
   ]
  },
  {
   "cell_type": "code",
   "execution_count": 2,
   "metadata": {},
   "outputs": [],
   "source": [
    "# read in data that has been preprocessed to only contain numeric values\n",
    "vlbw = pd.read_csv('data/vlbw_train_imputed.csv')"
   ]
  },
  {
   "cell_type": "markdown",
   "metadata": {},
   "source": [
    "pull out labels for data as the column that we want to predict (live births)  \n",
    "then, drop that column from the training data to ignore it in our algorithms"
   ]
  },
  {
   "cell_type": "code",
   "execution_count": 3,
   "metadata": {},
   "outputs": [],
   "source": [
    "labels = vlbw['dead']\n",
    "vlbw.drop('dead', axis=1, inplace=True)"
   ]
  },
  {
   "cell_type": "code",
   "execution_count": 4,
   "metadata": {},
   "outputs": [],
   "source": [
    "# normalize each column to fractional representation between 0 and 1\n",
    "vlbw_norm = normalize(vlbw, axis=1, norm='l1')"
   ]
  },
  {
   "cell_type": "markdown",
   "metadata": {},
   "source": [
    "---\n",
    "Perform k-fold split on preprocessed data for downstream validation of classifiers"
   ]
  },
  {
   "cell_type": "code",
   "execution_count": 6,
   "metadata": {},
   "outputs": [],
   "source": [
    "vlbw_splits = kfold_split(vlbw_norm, labels, 5, seed=18, shuffle=True)"
   ]
  },
  {
   "cell_type": "markdown",
   "metadata": {},
   "source": [
    "Test supervised classifiers using `validator` function"
   ]
  },
  {
   "cell_type": "code",
   "execution_count": 7,
   "metadata": {},
   "outputs": [],
   "source": [
    "# Logistic regression classifier\n",
    "clf = LogisticRegressionCV(cv=5, random_state=0, multi_class='multinomial', max_iter=1000)"
   ]
  },
  {
   "cell_type": "code",
   "execution_count": 8,
   "metadata": {},
   "outputs": [
    {
     "name": "stdout",
     "output_type": "stream",
     "text": [
      "\n",
      "Split 0: 0.8543689320388349\n",
      "[[72  1]\n",
      " [14 16]]\n",
      "\n",
      "Split 1: 0.9029126213592233\n",
      "[[82  1]\n",
      " [ 9 11]]\n",
      "\n",
      "Split 2: 0.8640776699029126\n",
      "[[78  3]\n",
      " [11 11]]\n",
      "\n",
      "Split 3: 0.9019607843137255\n",
      "[[82  1]\n",
      " [ 9 10]]\n",
      "\n",
      "Split 4: 0.8725490196078431\n",
      "[[81  5]\n",
      " [ 8  8]]\n"
     ]
    }
   ],
   "source": [
    "validator(vlbw_splits, clf)"
   ]
  },
  {
   "cell_type": "code",
   "execution_count": 9,
   "metadata": {},
   "outputs": [],
   "source": [
    "# k-nearest neighbor classifier\n",
    "neigh = KNeighborsClassifier(n_neighbors=3)"
   ]
  },
  {
   "cell_type": "code",
   "execution_count": 10,
   "metadata": {},
   "outputs": [
    {
     "name": "stdout",
     "output_type": "stream",
     "text": [
      "\n",
      "Split 0: 0.8155339805825242\n",
      "[[70  3]\n",
      " [16 14]]\n",
      "\n",
      "Split 1: 0.8932038834951457\n",
      "[[81  2]\n",
      " [ 9 11]]\n",
      "\n",
      "Split 2: 0.8737864077669902\n",
      "[[77  4]\n",
      " [ 9 13]]\n",
      "\n",
      "Split 3: 0.9117647058823529\n",
      "[[81  2]\n",
      " [ 7 12]]\n",
      "\n",
      "Split 4: 0.8921568627450981\n",
      "[[83  3]\n",
      " [ 8  8]]\n"
     ]
    }
   ],
   "source": [
    "validator(vlbw_splits, neigh)"
   ]
  },
  {
   "cell_type": "code",
   "execution_count": 11,
   "metadata": {},
   "outputs": [],
   "source": [
    "# random forest classifier\n",
    "rf = RandomForestClassifier(n_estimators=100, max_depth=10, random_state=0)"
   ]
  },
  {
   "cell_type": "code",
   "execution_count": 12,
   "metadata": {},
   "outputs": [
    {
     "name": "stdout",
     "output_type": "stream",
     "text": [
      "\n",
      "Split 0: 0.8543689320388349\n",
      "[[72  1]\n",
      " [14 16]]\n",
      "\n",
      "Split 1: 0.9029126213592233\n",
      "[[80  3]\n",
      " [ 7 13]]\n",
      "\n",
      "Split 2: 0.9223300970873787\n",
      "[[78  3]\n",
      " [ 5 17]]\n",
      "\n",
      "Split 3: 0.9313725490196079\n",
      "[[81  2]\n",
      " [ 5 14]]\n",
      "\n",
      "Split 4: 0.9411764705882353\n",
      "[[83  3]\n",
      " [ 3 13]]\n"
     ]
    }
   ],
   "source": [
    "validator(vlbw_splits, rf)"
   ]
  },
  {
   "cell_type": "code",
   "execution_count": null,
   "metadata": {},
   "outputs": [],
   "source": []
  }
 ],
 "metadata": {
  "kernelspec": {
   "display_name": "Python 3",
   "language": "python",
   "name": "python3"
  },
  "language_info": {
   "codemirror_mode": {
    "name": "ipython",
    "version": 3
   },
   "file_extension": ".py",
   "mimetype": "text/x-python",
   "name": "python",
   "nbconvert_exporter": "python",
   "pygments_lexer": "ipython3",
   "version": "3.6.5"
  }
 },
 "nbformat": 4,
 "nbformat_minor": 2
}
