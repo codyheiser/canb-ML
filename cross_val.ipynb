{
 "cells": [
  {
   "cell_type": "markdown",
   "metadata": {},
   "source": [
    "#### CANB8347 Machine Learning Project\n",
    "Cross-validating supervised ML methods on pre-cleaned dataset"
   ]
  },
  {
   "cell_type": "code",
   "execution_count": 1,
   "metadata": {},
   "outputs": [],
   "source": [
    "from ml_utils import *\n",
    "\n",
    "# sklearn tools\n",
    "from sklearn.preprocessing import normalize\n",
    "from sklearn.impute import SimpleImputer\n",
    "from sklearn.decomposition import PCA\n",
    "from sklearn.discriminant_analysis import LinearDiscriminantAnalysis\n",
    "from sklearn.model_selection import KFold\n",
    "from sklearn.linear_model import LogisticRegressionCV\n",
    "from sklearn.neighbors import KNeighborsClassifier"
   ]
  },
  {
   "cell_type": "code",
   "execution_count": 2,
   "metadata": {},
   "outputs": [],
   "source": [
    "# read in data that has been preprocessed to only contain numeric values\n",
    "vlbw = pd.read_csv('data/vlbw_train_numeric.csv')"
   ]
  },
  {
   "cell_type": "markdown",
   "metadata": {},
   "source": [
    "pull out labels for data as the column that we want to predict (live births)  \n",
    "then, drop that column from the training data to ignore it in our algorithms"
   ]
  },
  {
   "cell_type": "code",
   "execution_count": 3,
   "metadata": {},
   "outputs": [],
   "source": [
    "labels = vlbw['dead']\n",
    "vlbw.drop('dead', axis=1, inplace=True)"
   ]
  },
  {
   "cell_type": "code",
   "execution_count": 4,
   "metadata": {},
   "outputs": [],
   "source": [
    "# fill NaNs with mode value of each column\n",
    "vlbw_filled = SimpleImputer(strategy='most_frequent').fit_transform(vlbw)"
   ]
  },
  {
   "cell_type": "code",
   "execution_count": 5,
   "metadata": {},
   "outputs": [],
   "source": [
    "# normalize each column to fractional representation between 0 and 1\n",
    "vlbw_filled_norm = normalize(vlbw_filled, axis=1, norm='l1')"
   ]
  },
  {
   "cell_type": "markdown",
   "metadata": {},
   "source": [
    "---\n",
    "Perform k-fold split on preprocessed data for downstream validation of classifiers"
   ]
  },
  {
   "cell_type": "code",
   "execution_count": 6,
   "metadata": {},
   "outputs": [],
   "source": [
    "vlbw_splits = kfold_split(vlbw_filled_norm, labels, 5, seed=18, shuffle=True)"
   ]
  },
  {
   "cell_type": "markdown",
   "metadata": {},
   "source": [
    "Test supervised classifiers using `validator` function"
   ]
  },
  {
   "cell_type": "code",
   "execution_count": 7,
   "metadata": {},
   "outputs": [],
   "source": [
    "# Logistic regression classifier\n",
    "clf = LogisticRegressionCV(cv=5, random_state=0, multi_class='multinomial', max_iter=1000)"
   ]
  },
  {
   "cell_type": "code",
   "execution_count": 8,
   "metadata": {},
   "outputs": [
    {
     "name": "stdout",
     "output_type": "stream",
     "text": [
      "\n",
      "Split 0: 0.8518518518518519\n",
      "[[79  3]\n",
      " [13 13]]\n",
      "\n",
      "Split 1: 0.8888888888888888\n",
      "[[83  1]\n",
      " [11 13]]\n",
      "\n",
      "Split 2: 0.8504672897196262\n",
      "[[77  2]\n",
      " [14 14]]\n",
      "\n",
      "Split 3: 0.8785046728971962\n",
      "[[83  7]\n",
      " [ 6 11]]\n",
      "\n",
      "Split 4: 0.8411214953271028\n",
      "[[75  2]\n",
      " [15 15]]\n"
     ]
    }
   ],
   "source": [
    "validator(vlbw_splits, clf)"
   ]
  },
  {
   "cell_type": "code",
   "execution_count": 9,
   "metadata": {},
   "outputs": [],
   "source": [
    "# k-nearest neighbor classifier\n",
    "neigh = KNeighborsClassifier(n_neighbors=3)"
   ]
  },
  {
   "cell_type": "code",
   "execution_count": 10,
   "metadata": {},
   "outputs": [
    {
     "name": "stdout",
     "output_type": "stream",
     "text": [
      "\n",
      "Split 0: 0.8796296296296297\n",
      "[[76  6]\n",
      " [ 7 19]]\n",
      "\n",
      "Split 1: 0.8888888888888888\n",
      "[[79  5]\n",
      " [ 7 17]]\n",
      "\n",
      "Split 2: 0.8317757009345794\n",
      "[[76  3]\n",
      " [15 13]]\n",
      "\n",
      "Split 3: 0.9065420560747663\n",
      "[[86  4]\n",
      " [ 6 11]]\n",
      "\n",
      "Split 4: 0.822429906542056\n",
      "[[73  4]\n",
      " [15 15]]\n"
     ]
    }
   ],
   "source": [
    "validator(vlbw_splits, neigh)"
   ]
  },
  {
   "cell_type": "code",
   "execution_count": null,
   "metadata": {},
   "outputs": [],
   "source": []
  }
 ],
 "metadata": {
  "kernelspec": {
   "display_name": "Python 3",
   "language": "python",
   "name": "python3"
  },
  "language_info": {
   "codemirror_mode": {
    "name": "ipython",
    "version": 3
   },
   "file_extension": ".py",
   "mimetype": "text/x-python",
   "name": "python",
   "nbconvert_exporter": "python",
   "pygments_lexer": "ipython3",
   "version": "3.6.5"
  }
 },
 "nbformat": 4,
 "nbformat_minor": 2
}
