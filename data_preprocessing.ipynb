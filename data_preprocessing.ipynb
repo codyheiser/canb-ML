{
 "cells": [
  {
   "cell_type": "markdown",
   "metadata": {},
   "source": [
    "#### CANB8347 Machine Learning Project\n",
    "Given annotated dataset, develop a supervised machine learning method to predict live births from multi-dimensional data  \n",
    "##### 0) Preprocessing and Characterization"
   ]
  },
  {
   "cell_type": "code",
   "execution_count": 1,
   "metadata": {},
   "outputs": [],
   "source": [
    "import numpy as np\n",
    "import pandas as pd\n",
    "import scipy as sc\n",
    "\n",
    "# sklearn tools\n",
    "from sklearn.preprocessing import normalize\n",
    "from sklearn.impute import SimpleImputer"
   ]
  },
  {
   "cell_type": "markdown",
   "metadata": {},
   "source": [
    "---\n",
    "#### 0. read in dataset and look at feature labels"
   ]
  },
  {
   "cell_type": "code",
   "execution_count": 2,
   "metadata": {},
   "outputs": [],
   "source": [
    "# read in raw training data\n",
    "vlbw = pd.read_csv('data/vlbw_train.csv')"
   ]
  },
  {
   "cell_type": "code",
   "execution_count": 3,
   "metadata": {},
   "outputs": [
    {
     "data": {
      "text/plain": [
       "(537, 27)"
      ]
     },
     "execution_count": 3,
     "metadata": {},
     "output_type": "execute_result"
    }
   ],
   "source": [
    "# see how many observations and features we are working with\n",
    "vlbw.shape"
   ]
  },
  {
   "cell_type": "code",
   "execution_count": 4,
   "metadata": {},
   "outputs": [
    {
     "data": {
      "text/plain": [
       "birth         1\n",
       "exit          9\n",
       "hospstay      9\n",
       "lowph        32\n",
       "pltct        39\n",
       "race          2\n",
       "bwt           0\n",
       "gest          1\n",
       "inout         1\n",
       "twn           0\n",
       "lol         288\n",
       "magsulf     182\n",
       "meth         70\n",
       "toc          70\n",
       "delivery      3\n",
       "apg1         11\n",
       "vent          6\n",
       "pneumo        3\n",
       "pda           5\n",
       "cld          38\n",
       "pvh         109\n",
       "ivh         108\n",
       "ipe         108\n",
       "year          1\n",
       "sex           1\n",
       "dead          0\n",
       "dtype: int64"
      ]
     },
     "execution_count": 4,
     "metadata": {},
     "output_type": "execute_result"
    }
   ],
   "source": [
    "# get rid of index axis\n",
    "vlbw.drop('Unnamed: 0', axis=1, inplace=True)\n",
    "# drop the rows that have NaN in the column twn, these seem to have a lot of other missing info\n",
    "vlbw.dropna(subset=['twn'], inplace=True)\n",
    "# look at number of missing observations in each feature\n",
    "vlbw.isnull().sum()"
   ]
  },
  {
   "cell_type": "code",
   "execution_count": 5,
   "metadata": {},
   "outputs": [
    {
     "data": {
      "text/plain": [
       "(519, 26)"
      ]
     },
     "execution_count": 5,
     "metadata": {},
     "output_type": "execute_result"
    }
   ],
   "source": [
    "vlbw.shape"
   ]
  },
  {
   "cell_type": "markdown",
   "metadata": {},
   "source": [
    "\n",
    "Features with a lot of missing observations are concerning:\n",
    "* lol\n",
    "* magsulf\n",
    "* meth\n",
    "* toc\n",
    "* pvh\n",
    "* ivh\n",
    "* ipe\n",
    "\n",
    "---\n",
    "#### Investigate missing values and decide how to impute/what to keep"
   ]
  },
  {
   "cell_type": "code",
   "execution_count": 6,
   "metadata": {},
   "outputs": [
    {
     "name": "stdout",
     "output_type": "stream",
     "text": [
      "lol: 0.16361321302009335\n",
      "magsulf: -0.06183780159526858\n",
      "meth: -0.1651503386980673\n",
      "toc: 0.010423079240993036\n"
     ]
    }
   ],
   "source": [
    "# for all the numeric, continuous data, see if the features correlate with live births\n",
    "print('lol: {}'.format(vlbw.lol.corr(vlbw.dead)))\n",
    "print('magsulf: {}'.format(vlbw.magsulf.corr(vlbw.dead)))\n",
    "print('meth: {}'.format(vlbw.meth.corr(vlbw.dead)))\n",
    "print('toc: {}'.format(vlbw.toc.corr(vlbw.dead)))"
   ]
  },
  {
   "cell_type": "code",
   "execution_count": 7,
   "metadata": {},
   "outputs": [],
   "source": [
    "# add labor length of 0 for any abdominal births without any value already assigned\n",
    "vlbw.loc[(vlbw.delivery=='abdominal') & (vlbw.lol.isnull()), 'lol'] = 0"
   ]
  },
  {
   "cell_type": "code",
   "execution_count": 8,
   "metadata": {},
   "outputs": [
    {
     "data": {
      "text/plain": [
       "0.0    292\n",
       "1.0     45\n",
       "Name: magsulf, dtype: int64"
      ]
     },
     "execution_count": 8,
     "metadata": {},
     "output_type": "execute_result"
    }
   ],
   "source": [
    "vlbw.magsulf.value_counts()"
   ]
  },
  {
   "cell_type": "code",
   "execution_count": 9,
   "metadata": {},
   "outputs": [],
   "source": [
    "# this one's probably okay to impute zero for the missing values\n",
    "vlbw.loc[vlbw.magsulf.isnull(), 'magsulf'] = 0"
   ]
  },
  {
   "cell_type": "code",
   "execution_count": 10,
   "metadata": {},
   "outputs": [
    {
     "data": {
      "text/plain": [
       "0.0    254\n",
       "1.0    195\n",
       "Name: meth, dtype: int64"
      ]
     },
     "execution_count": 10,
     "metadata": {},
     "output_type": "execute_result"
    }
   ],
   "source": [
    "vlbw.meth.value_counts()"
   ]
  },
  {
   "cell_type": "code",
   "execution_count": 11,
   "metadata": {},
   "outputs": [],
   "source": [
    "# again, for 70 observations with a low correlation to death, \n",
    "# this one's probably okay to impute zero for the missing values\n",
    "vlbw.loc[vlbw.meth.isnull(), 'meth'] = 0"
   ]
  },
  {
   "cell_type": "code",
   "execution_count": 12,
   "metadata": {},
   "outputs": [
    {
     "data": {
      "text/plain": [
       "0.0    347\n",
       "1.0    102\n",
       "Name: toc, dtype: int64"
      ]
     },
     "execution_count": 12,
     "metadata": {},
     "output_type": "execute_result"
    }
   ],
   "source": [
    "vlbw.toc.value_counts()"
   ]
  },
  {
   "cell_type": "code",
   "execution_count": 13,
   "metadata": {},
   "outputs": [],
   "source": [
    "# again, for 70 observations with a low correlation to death, \n",
    "# this one's probably okay to impute zero for the missing values\n",
    "vlbw.loc[vlbw.toc.isnull(), 'toc'] = 0"
   ]
  },
  {
   "cell_type": "markdown",
   "metadata": {},
   "source": [
    "---\n",
    "Now look at `pvh`, `ivh`, and `ipe`, which are missing a bunch of values and have more than two levels."
   ]
  },
  {
   "cell_type": "code",
   "execution_count": 14,
   "metadata": {},
   "outputs": [
    {
     "data": {
      "text/plain": [
       "absent      277\n",
       "definite    102\n",
       "possible     31\n",
       "Name: pvh, dtype: int64"
      ]
     },
     "execution_count": 14,
     "metadata": {},
     "output_type": "execute_result"
    }
   ],
   "source": [
    "# see potential 'pvh' values and their counts\n",
    "vlbw.pvh.value_counts()"
   ]
  },
  {
   "cell_type": "code",
   "execution_count": 15,
   "metadata": {},
   "outputs": [],
   "source": [
    "# replace categories with numeric levels based on confidence of pvh diagnosis\n",
    "vlbw.loc[vlbw.pvh=='absent', 'pvh'] = 0\n",
    "vlbw.loc[vlbw.pvh=='possible', 'pvh'] = 1\n",
    "vlbw.loc[vlbw.pvh=='definite', 'pvh'] = 2"
   ]
  },
  {
   "cell_type": "code",
   "execution_count": 16,
   "metadata": {},
   "outputs": [
    {
     "data": {
      "text/plain": [
       "0    277\n",
       "2    102\n",
       "1     31\n",
       "Name: pvh, dtype: int64"
      ]
     },
     "execution_count": 16,
     "metadata": {},
     "output_type": "execute_result"
    }
   ],
   "source": [
    "# now levels should be 0, 1, 2\n",
    "vlbw.pvh.value_counts()"
   ]
  },
  {
   "cell_type": "code",
   "execution_count": 17,
   "metadata": {},
   "outputs": [
    {
     "data": {
      "text/plain": [
       "0.1532637193896322"
      ]
     },
     "execution_count": 17,
     "metadata": {},
     "output_type": "execute_result"
    }
   ],
   "source": [
    "# correlate death to new numeric pvh values\n",
    "vlbw.dead.corr(vlbw.pvh.astype('float'))"
   ]
  },
  {
   "cell_type": "markdown",
   "metadata": {},
   "source": [
    "Not very significant correlation here.  Do the same for IVH and IPE."
   ]
  },
  {
   "cell_type": "code",
   "execution_count": 18,
   "metadata": {},
   "outputs": [
    {
     "data": {
      "text/plain": [
       "absent      345\n",
       "definite     58\n",
       "possible      8\n",
       "Name: ivh, dtype: int64"
      ]
     },
     "execution_count": 18,
     "metadata": {},
     "output_type": "execute_result"
    }
   ],
   "source": [
    "# see potential 'ivh' values and counts\n",
    "vlbw.ivh.value_counts()"
   ]
  },
  {
   "cell_type": "code",
   "execution_count": 19,
   "metadata": {},
   "outputs": [],
   "source": [
    "# replace categories with numeric levels based on confidence of pvh diagnosis\n",
    "vlbw.loc[vlbw.ivh=='absent', 'ivh'] = 0\n",
    "vlbw.loc[vlbw.ivh=='possible', 'ivh'] = 1\n",
    "vlbw.loc[vlbw.ivh=='definite', 'ivh'] = 2"
   ]
  },
  {
   "cell_type": "code",
   "execution_count": 20,
   "metadata": {},
   "outputs": [
    {
     "data": {
      "text/plain": [
       "0    345\n",
       "2     58\n",
       "1      8\n",
       "Name: ivh, dtype: int64"
      ]
     },
     "execution_count": 20,
     "metadata": {},
     "output_type": "execute_result"
    }
   ],
   "source": [
    "# now levels should be 0, 1, 2\n",
    "vlbw.ivh.value_counts()"
   ]
  },
  {
   "cell_type": "code",
   "execution_count": 21,
   "metadata": {},
   "outputs": [
    {
     "data": {
      "text/plain": [
       "0.3966245771655225"
      ]
     },
     "execution_count": 21,
     "metadata": {},
     "output_type": "execute_result"
    }
   ],
   "source": [
    "# correlate death to new numeric pvh values\n",
    "vlbw.dead.corr(vlbw.ivh.astype('float'))"
   ]
  },
  {
   "cell_type": "markdown",
   "metadata": {},
   "source": [
    "That's a large correlation."
   ]
  },
  {
   "cell_type": "code",
   "execution_count": 22,
   "metadata": {},
   "outputs": [
    {
     "data": {
      "text/plain": [
       "absent      368\n",
       "definite     29\n",
       "possible     14\n",
       "Name: ipe, dtype: int64"
      ]
     },
     "execution_count": 22,
     "metadata": {},
     "output_type": "execute_result"
    }
   ],
   "source": [
    "# see how many of each category\n",
    "vlbw.ipe.value_counts()"
   ]
  },
  {
   "cell_type": "code",
   "execution_count": 23,
   "metadata": {},
   "outputs": [],
   "source": [
    "# replace categories with numeric levels based on confidence of pvh diagnosis\n",
    "vlbw.loc[vlbw.ipe=='absent', 'ipe'] = 0\n",
    "vlbw.loc[vlbw.ipe=='possible', 'ipe'] = 1\n",
    "vlbw.loc[vlbw.ipe=='definite', 'ipe'] = 2"
   ]
  },
  {
   "cell_type": "code",
   "execution_count": 24,
   "metadata": {},
   "outputs": [
    {
     "data": {
      "text/plain": [
       "0    368\n",
       "2     29\n",
       "1     14\n",
       "Name: ipe, dtype: int64"
      ]
     },
     "execution_count": 24,
     "metadata": {},
     "output_type": "execute_result"
    }
   ],
   "source": [
    "# now levels should be 0, 1, 2\n",
    "vlbw.ipe.value_counts()"
   ]
  },
  {
   "cell_type": "code",
   "execution_count": 25,
   "metadata": {},
   "outputs": [
    {
     "data": {
      "text/plain": [
       "0.13357262144554805"
      ]
     },
     "execution_count": 25,
     "metadata": {},
     "output_type": "execute_result"
    }
   ],
   "source": [
    "# correlate death to new numeric pvh values\n",
    "vlbw.dead.corr(vlbw.ipe.astype('float'))"
   ]
  },
  {
   "cell_type": "markdown",
   "metadata": {},
   "source": [
    "Smaller for IPE, but still there"
   ]
  },
  {
   "cell_type": "markdown",
   "metadata": {},
   "source": [
    "Now the problem with these values (`pvh`, `ivh`, `ipe`) will be imputation.  How do we impute 120 values in a dataset of 500?  Random sampling introduces noise, but assuming absence could also yield false negatives. See [`imputation.ipynb`](imputation.ipynb) for next steps."
   ]
  },
  {
   "cell_type": "code",
   "execution_count": 26,
   "metadata": {},
   "outputs": [],
   "source": [
    "# make sure the columns are numeric datatype before moving on\n",
    "vlbw.loc[:,'pvh'] = vlbw.pvh.astype('float64', inplace=True)\n",
    "vlbw.loc[:,'ivh'] = vlbw.ivh.astype('float64', inplace=True)\n",
    "vlbw.loc[:,'ipe'] = vlbw.ipe.astype('float64', inplace=True)"
   ]
  },
  {
   "cell_type": "markdown",
   "metadata": {},
   "source": [
    "---\n",
    "#### Check out other categorical variables and see how to convert to numeric"
   ]
  },
  {
   "cell_type": "code",
   "execution_count": 27,
   "metadata": {},
   "outputs": [
    {
     "data": {
      "text/plain": [
       "race        object\n",
       "inout       object\n",
       "delivery    object\n",
       "sex         object\n",
       "dtype: object"
      ]
     },
     "execution_count": 27,
     "metadata": {},
     "output_type": "execute_result"
    }
   ],
   "source": [
    "# features that are still categorical\n",
    "vlbw.dtypes[vlbw.dtypes=='object']"
   ]
  },
  {
   "cell_type": "code",
   "execution_count": 28,
   "metadata": {},
   "outputs": [],
   "source": [
    "def numerize(df, col, drop=True):\n",
    "    '''\n",
    "    make categorical data numeric from 0 - n categories\n",
    "        df = dataframe\n",
    "        col = column to numerize into n_categories columns\n",
    "        drop = drop original column or retain in df?\n",
    "    '''\n",
    "    temp = df.copy(deep=True) # copy df so you don't affect it\n",
    "    \n",
    "    for cat in temp[col].unique():\n",
    "        # for each categorical value, create a new column with binary values for T/F\n",
    "        temp[col+'_'+str(cat)] = (temp[col]==cat)*1\n",
    "        \n",
    "    if drop:\n",
    "        return temp.drop(col, axis=1)\n",
    "    \n",
    "    else:\n",
    "        return temp"
   ]
  },
  {
   "cell_type": "code",
   "execution_count": 29,
   "metadata": {},
   "outputs": [],
   "source": [
    "# perform numerization on whole dataset\n",
    "for feature, datatype in zip(vlbw.dtypes.index, vlbw.dtypes):\n",
    "    if datatype == 'object':\n",
    "        vlbw = numerize(vlbw, feature)"
   ]
  },
  {
   "cell_type": "code",
   "execution_count": 30,
   "metadata": {},
   "outputs": [
    {
     "data": {
      "text/plain": [
       "birth                   float64\n",
       "exit                    float64\n",
       "hospstay                float64\n",
       "lowph                   float64\n",
       "pltct                   float64\n",
       "bwt                     float64\n",
       "gest                    float64\n",
       "twn                     float64\n",
       "lol                     float64\n",
       "magsulf                 float64\n",
       "meth                    float64\n",
       "toc                     float64\n",
       "apg1                    float64\n",
       "vent                    float64\n",
       "pneumo                  float64\n",
       "pda                     float64\n",
       "cld                     float64\n",
       "pvh                     float64\n",
       "ivh                     float64\n",
       "ipe                     float64\n",
       "year                    float64\n",
       "dead                      int64\n",
       "race_white                int64\n",
       "race_black                int64\n",
       "race_native American      int64\n",
       "race_oriental             int64\n",
       "race_nan                  int64\n",
       "inout_born at Duke        int64\n",
       "inout_transported         int64\n",
       "inout_nan                 int64\n",
       "delivery_abdominal        int64\n",
       "delivery_vaginal          int64\n",
       "delivery_nan              int64\n",
       "sex_female                int64\n",
       "sex_male                  int64\n",
       "sex_nan                   int64\n",
       "dtype: object"
      ]
     },
     "execution_count": 30,
     "metadata": {},
     "output_type": "execute_result"
    }
   ],
   "source": [
    "# look at resulting features\n",
    "# should be more than we started with, as data is now in long-form\n",
    "vlbw.dtypes"
   ]
  },
  {
   "cell_type": "code",
   "execution_count": 31,
   "metadata": {},
   "outputs": [
    {
     "data": {
      "text/html": [
       "<div>\n",
       "<style scoped>\n",
       "    .dataframe tbody tr th:only-of-type {\n",
       "        vertical-align: middle;\n",
       "    }\n",
       "\n",
       "    .dataframe tbody tr th {\n",
       "        vertical-align: top;\n",
       "    }\n",
       "\n",
       "    .dataframe thead th {\n",
       "        text-align: right;\n",
       "    }\n",
       "</style>\n",
       "<table border=\"1\" class=\"dataframe\">\n",
       "  <thead>\n",
       "    <tr style=\"text-align: right;\">\n",
       "      <th></th>\n",
       "      <th>birth</th>\n",
       "      <th>exit</th>\n",
       "      <th>hospstay</th>\n",
       "      <th>lowph</th>\n",
       "      <th>pltct</th>\n",
       "      <th>bwt</th>\n",
       "      <th>gest</th>\n",
       "      <th>twn</th>\n",
       "      <th>lol</th>\n",
       "      <th>magsulf</th>\n",
       "      <th>...</th>\n",
       "      <th>race_nan</th>\n",
       "      <th>inout_born at Duke</th>\n",
       "      <th>inout_transported</th>\n",
       "      <th>inout_nan</th>\n",
       "      <th>delivery_abdominal</th>\n",
       "      <th>delivery_vaginal</th>\n",
       "      <th>delivery_nan</th>\n",
       "      <th>sex_female</th>\n",
       "      <th>sex_male</th>\n",
       "      <th>sex_nan</th>\n",
       "    </tr>\n",
       "  </thead>\n",
       "  <tbody>\n",
       "    <tr>\n",
       "      <th>369</th>\n",
       "      <td>85.624</td>\n",
       "      <td>85.768997</td>\n",
       "      <td>53.0</td>\n",
       "      <td>NaN</td>\n",
       "      <td>NaN</td>\n",
       "      <td>1145.0</td>\n",
       "      <td>28.0</td>\n",
       "      <td>0.0</td>\n",
       "      <td>NaN</td>\n",
       "      <td>0.0</td>\n",
       "      <td>...</td>\n",
       "      <td>0</td>\n",
       "      <td>0</td>\n",
       "      <td>0</td>\n",
       "      <td>0</td>\n",
       "      <td>0</td>\n",
       "      <td>0</td>\n",
       "      <td>0</td>\n",
       "      <td>0</td>\n",
       "      <td>1</td>\n",
       "      <td>0</td>\n",
       "    </tr>\n",
       "  </tbody>\n",
       "</table>\n",
       "<p>1 rows × 36 columns</p>\n",
       "</div>"
      ],
      "text/plain": [
       "      birth       exit  hospstay  lowph  pltct     bwt  gest  twn  lol  \\\n",
       "369  85.624  85.768997      53.0    NaN    NaN  1145.0  28.0  0.0  NaN   \n",
       "\n",
       "     magsulf  ...  race_nan  inout_born at Duke  inout_transported  inout_nan  \\\n",
       "369      0.0  ...         0                   0                  0          0   \n",
       "\n",
       "     delivery_abdominal  delivery_vaginal  delivery_nan  sex_female  sex_male  \\\n",
       "369                   0                 0             0           0         1   \n",
       "\n",
       "     sex_nan  \n",
       "369        0  \n",
       "\n",
       "[1 rows x 36 columns]"
      ]
     },
     "execution_count": 31,
     "metadata": {},
     "output_type": "execute_result"
    }
   ],
   "source": [
    "vlbw.loc[(vlbw['inout_born at Duke']==0)&(vlbw.inout_transported==0)]"
   ]
  },
  {
   "cell_type": "markdown",
   "metadata": {},
   "source": [
    "There's only one observation where we don't know whether or not they were born at Duke. Let's say they are a Dukie."
   ]
  },
  {
   "cell_type": "code",
   "execution_count": 32,
   "metadata": {},
   "outputs": [],
   "source": [
    "vlbw.loc[(vlbw['inout_born at Duke']==0)&(vlbw.inout_transported==0), 'inout_born at Duke'] = 1\n",
    "vlbw.drop('inout_nan', axis=1, inplace=True)"
   ]
  },
  {
   "cell_type": "code",
   "execution_count": 33,
   "metadata": {},
   "outputs": [],
   "source": [
    "# make unknown sex 1 in 'sex_nan' column\n",
    "vlbw.loc[(vlbw.sex_female==0)&(vlbw.sex_male==0), 'sex_nan'] = 1\n",
    "# make unknown delivery 1 in 'delivery_nan' column\n",
    "vlbw.loc[(vlbw.delivery_abdominal==0)&(vlbw.delivery_vaginal==0), 'delivery_nan'] = 1\n",
    "# make unknown race 1 in 'race_nan' column\n",
    "vlbw.loc[(vlbw.race_black==0)&(vlbw.race_white==0)&(vlbw.race_oriental==0)&(vlbw['race_native American']==0), 'race_nan'] = 1"
   ]
  },
  {
   "cell_type": "code",
   "execution_count": 34,
   "metadata": {},
   "outputs": [
    {
     "data": {
      "text/plain": [
       "0    518\n",
       "1      1\n",
       "Name: sex_nan, dtype: int64"
      ]
     },
     "execution_count": 34,
     "metadata": {},
     "output_type": "execute_result"
    }
   ],
   "source": [
    "vlbw.sex_nan.value_counts()"
   ]
  },
  {
   "cell_type": "code",
   "execution_count": 35,
   "metadata": {},
   "outputs": [
    {
     "data": {
      "text/plain": [
       "0    516\n",
       "1      3\n",
       "Name: delivery_nan, dtype: int64"
      ]
     },
     "execution_count": 35,
     "metadata": {},
     "output_type": "execute_result"
    }
   ],
   "source": [
    "vlbw.delivery_nan.value_counts()"
   ]
  },
  {
   "cell_type": "code",
   "execution_count": 36,
   "metadata": {},
   "outputs": [
    {
     "data": {
      "text/plain": [
       "0    517\n",
       "1      2\n",
       "Name: race_nan, dtype: int64"
      ]
     },
     "execution_count": 36,
     "metadata": {},
     "output_type": "execute_result"
    }
   ],
   "source": [
    "vlbw.race_nan.value_counts()"
   ]
  },
  {
   "cell_type": "code",
   "execution_count": 37,
   "metadata": {},
   "outputs": [],
   "source": [
    "# drop unknown race, sex, and delivery bc there's not that many missing values\n",
    "vlbw = vlbw[(vlbw.race_nan!=1) & (vlbw.sex_nan!=1) & (vlbw.delivery_nan!=1)]\n",
    "vlbw.drop(['race_nan','delivery_nan','sex_nan'], axis=1, inplace=True)"
   ]
  },
  {
   "cell_type": "code",
   "execution_count": 38,
   "metadata": {},
   "outputs": [
    {
     "data": {
      "text/plain": [
       "(513, 32)"
      ]
     },
     "execution_count": 38,
     "metadata": {},
     "output_type": "execute_result"
    }
   ],
   "source": [
    "# final obs x features matrix for training after preprocessing\n",
    "vlbw.shape"
   ]
  },
  {
   "cell_type": "code",
   "execution_count": 39,
   "metadata": {},
   "outputs": [],
   "source": [
    "# save the 'numerified' data as .csv file\n",
    "vlbw.to_csv('data/vlbw_train_numeric.csv', index=False)"
   ]
  },
  {
   "cell_type": "markdown",
   "metadata": {},
   "source": [
    "---\n",
    "Next, we need to figure out how to impute the rest of the missing values.  \n",
    "See [`imputation.ipynb`](imputation.ipynb) for next steps."
   ]
  }
 ],
 "metadata": {
  "kernelspec": {
   "display_name": "Python 3",
   "language": "python",
   "name": "python3"
  },
  "language_info": {
   "codemirror_mode": {
    "name": "ipython",
    "version": 3
   },
   "file_extension": ".py",
   "mimetype": "text/x-python",
   "name": "python",
   "nbconvert_exporter": "python",
   "pygments_lexer": "ipython3",
   "version": "3.6.5"
  }
 },
 "nbformat": 4,
 "nbformat_minor": 2
}
