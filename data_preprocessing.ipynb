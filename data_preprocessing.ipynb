{
 "cells": [
  {
   "cell_type": "markdown",
   "metadata": {},
   "source": [
    "#### CANB8347 Machine Learning Project\n",
    "Given annotated dataset, develop a supervised machine learning method to predict live births from multi-dimensional data"
   ]
  },
  {
   "cell_type": "code",
   "execution_count": 42,
   "metadata": {},
   "outputs": [],
   "source": [
    "import numpy as np\n",
    "import pandas as pd\n",
    "import scipy as sc\n",
    "\n",
    "# sklearn tools\n",
    "from sklearn.preprocessing import normalize\n",
    "from sklearn.impute import SimpleImputer\n",
    "from sklearn.decomposition import PCA\n",
    "\n",
    "# plotting tools\n",
    "import matplotlib.pyplot as plt\n",
    "import seaborn as sns; sns.set(style = 'white')\n",
    "%matplotlib inline"
   ]
  },
  {
   "cell_type": "markdown",
   "metadata": {},
   "source": [
    "---\n",
    "#### 0. read in dataset and look at feature labels"
   ]
  },
  {
   "cell_type": "code",
   "execution_count": 2,
   "metadata": {},
   "outputs": [],
   "source": [
    "vlbw = pd.read_csv('data/vlbw_train.csv')"
   ]
  },
  {
   "cell_type": "code",
   "execution_count": 3,
   "metadata": {},
   "outputs": [
    {
     "data": {
      "text/plain": [
       "birth        19\n",
       "exit         27\n",
       "hospstay     27\n",
       "lowph        50\n",
       "pltct        57\n",
       "race         20\n",
       "bwt           2\n",
       "gest          2\n",
       "inout         1\n",
       "twn          18\n",
       "lol         306\n",
       "magsulf     200\n",
       "meth         88\n",
       "toc          88\n",
       "delivery     21\n",
       "apg1         29\n",
       "vent         24\n",
       "pneumo       21\n",
       "pda          23\n",
       "cld          56\n",
       "pvh         121\n",
       "ivh         120\n",
       "ipe         120\n",
       "year         19\n",
       "sex          19\n",
       "dead          0\n",
       "dtype: int64"
      ]
     },
     "execution_count": 3,
     "metadata": {},
     "output_type": "execute_result"
    }
   ],
   "source": [
    "vlbw.drop('Unnamed: 0', axis=1, inplace=True) # get rid of index axis\n",
    "# look at number of missing observations in each feature\n",
    "vlbw.isnull().sum()"
   ]
  },
  {
   "cell_type": "markdown",
   "metadata": {},
   "source": [
    "\n",
    "Features with a lot of missing observations are concerning:\n",
    "* lol\n",
    "* magsulf\n",
    "* meth\n",
    "* toc\n",
    "* pvh\n",
    "* ivh\n",
    "* ipe\n",
    "\n",
    "---\n",
    "#### Investigate missing values and decide how to impute/what to keep"
   ]
  },
  {
   "cell_type": "code",
   "execution_count": 4,
   "metadata": {},
   "outputs": [
    {
     "name": "stdout",
     "output_type": "stream",
     "text": [
      "lol: 0.16361321302009335\n",
      "magsulf: -0.06183780159526858\n",
      "meth: -0.1651503386980673\n",
      "toc: 0.010423079240993036\n"
     ]
    }
   ],
   "source": [
    "# for all the numeric, continuous data, see if the features correlate with live births\n",
    "print('lol: {}'.format(vlbw.lol.corr(vlbw.dead)))\n",
    "print('magsulf: {}'.format(vlbw.magsulf.corr(vlbw.dead)))\n",
    "print('meth: {}'.format(vlbw.meth.corr(vlbw.dead)))\n",
    "print('toc: {}'.format(vlbw.toc.corr(vlbw.dead)))"
   ]
  },
  {
   "cell_type": "code",
   "execution_count": 5,
   "metadata": {},
   "outputs": [],
   "source": [
    "# add labor length of 0 for any abdominal births without any value already assigned\n",
    "vlbw.loc[(vlbw.delivery=='abdominal') & (vlbw.lol.isnull()), 'lol'] = 0"
   ]
  },
  {
   "cell_type": "code",
   "execution_count": 6,
   "metadata": {},
   "outputs": [
    {
     "data": {
      "text/plain": [
       "0.0    292\n",
       "1.0     45\n",
       "Name: magsulf, dtype: int64"
      ]
     },
     "execution_count": 6,
     "metadata": {},
     "output_type": "execute_result"
    }
   ],
   "source": [
    "vlbw.magsulf.value_counts()"
   ]
  },
  {
   "cell_type": "code",
   "execution_count": 7,
   "metadata": {},
   "outputs": [],
   "source": [
    "# this one's probably okay to impute zero for the missing values\n",
    "vlbw.loc[vlbw.magsulf.isnull(), 'magsulf'] = 0"
   ]
  },
  {
   "cell_type": "code",
   "execution_count": 8,
   "metadata": {},
   "outputs": [
    {
     "data": {
      "text/plain": [
       "0.0    254\n",
       "1.0    195\n",
       "Name: meth, dtype: int64"
      ]
     },
     "execution_count": 8,
     "metadata": {},
     "output_type": "execute_result"
    }
   ],
   "source": [
    "vlbw.meth.value_counts()"
   ]
  },
  {
   "cell_type": "code",
   "execution_count": 9,
   "metadata": {},
   "outputs": [],
   "source": [
    "# again, for 88 observations with a low correlation to death, \n",
    "# this one's probably okay to impute zero for the missing values\n",
    "vlbw.loc[vlbw.meth.isnull(), 'meth'] = 0"
   ]
  },
  {
   "cell_type": "code",
   "execution_count": 10,
   "metadata": {},
   "outputs": [
    {
     "data": {
      "text/plain": [
       "0.0    347\n",
       "1.0    102\n",
       "Name: toc, dtype: int64"
      ]
     },
     "execution_count": 10,
     "metadata": {},
     "output_type": "execute_result"
    }
   ],
   "source": [
    "vlbw.toc.value_counts()"
   ]
  },
  {
   "cell_type": "code",
   "execution_count": 11,
   "metadata": {},
   "outputs": [],
   "source": [
    "# again, for 88 observations with a low correlation to death, \n",
    "# this one's probably okay to impute zero for the missing values\n",
    "vlbw.loc[vlbw.toc.isnull(), 'toc'] = 0"
   ]
  },
  {
   "cell_type": "markdown",
   "metadata": {},
   "source": [
    "---\n",
    "#### Devise scheme for numerizing categorical data\n",
    "Start with `pvh`, `ivh`, and `ipe`, which are missing a bunch of values and have more than two levels."
   ]
  },
  {
   "cell_type": "code",
   "execution_count": 13,
   "metadata": {},
   "outputs": [
    {
     "data": {
      "text/plain": [
       "absent      283\n",
       "definite    102\n",
       "possible     31\n",
       "Name: pvh, dtype: int64"
      ]
     },
     "execution_count": 13,
     "metadata": {},
     "output_type": "execute_result"
    }
   ],
   "source": [
    "# see potential 'pvh' values and their counts\n",
    "vlbw.pvh.value_counts()"
   ]
  },
  {
   "cell_type": "code",
   "execution_count": 14,
   "metadata": {},
   "outputs": [],
   "source": [
    "# replace categories with numeric levels based on confidence of pvh diagnosis\n",
    "vlbw.loc[vlbw.pvh=='absent', 'pvh'] = 0\n",
    "vlbw.loc[vlbw.pvh=='possible', 'pvh'] = 1\n",
    "vlbw.loc[vlbw.pvh=='definite', 'pvh'] = 2"
   ]
  },
  {
   "cell_type": "code",
   "execution_count": 15,
   "metadata": {},
   "outputs": [
    {
     "data": {
      "text/plain": [
       "0    283\n",
       "2    102\n",
       "1     31\n",
       "Name: pvh, dtype: int64"
      ]
     },
     "execution_count": 15,
     "metadata": {},
     "output_type": "execute_result"
    }
   ],
   "source": [
    "# now levels should be 0, 1, 2\n",
    "vlbw.pvh.value_counts()"
   ]
  },
  {
   "cell_type": "code",
   "execution_count": 16,
   "metadata": {},
   "outputs": [
    {
     "data": {
      "text/plain": [
       "0.13088756681400213"
      ]
     },
     "execution_count": 16,
     "metadata": {},
     "output_type": "execute_result"
    }
   ],
   "source": [
    "# correlate death to new numeric pvh values\n",
    "vlbw.dead.corr(vlbw.pvh.astype('float'))"
   ]
  },
  {
   "cell_type": "markdown",
   "metadata": {},
   "source": [
    "Kinda significant correlation here.  Do the same for IVH and IPE."
   ]
  },
  {
   "cell_type": "code",
   "execution_count": 17,
   "metadata": {},
   "outputs": [
    {
     "data": {
      "text/plain": [
       "absent      351\n",
       "definite     58\n",
       "possible      8\n",
       "Name: ivh, dtype: int64"
      ]
     },
     "execution_count": 17,
     "metadata": {},
     "output_type": "execute_result"
    }
   ],
   "source": [
    "# see potential 'ivh' values and counts\n",
    "vlbw.ivh.value_counts()"
   ]
  },
  {
   "cell_type": "code",
   "execution_count": 18,
   "metadata": {},
   "outputs": [],
   "source": [
    "# replace categories with numeric levels based on confidence of pvh diagnosis\n",
    "vlbw.loc[vlbw.ivh=='absent', 'ivh'] = 0\n",
    "vlbw.loc[vlbw.ivh=='possible', 'ivh'] = 1\n",
    "vlbw.loc[vlbw.ivh=='definite', 'ivh'] = 2"
   ]
  },
  {
   "cell_type": "code",
   "execution_count": 19,
   "metadata": {},
   "outputs": [
    {
     "data": {
      "text/plain": [
       "0    351\n",
       "2     58\n",
       "1      8\n",
       "Name: ivh, dtype: int64"
      ]
     },
     "execution_count": 19,
     "metadata": {},
     "output_type": "execute_result"
    }
   ],
   "source": [
    "# now levels should be 0, 1, 2\n",
    "vlbw.ivh.value_counts()"
   ]
  },
  {
   "cell_type": "code",
   "execution_count": 20,
   "metadata": {},
   "outputs": [
    {
     "data": {
      "text/plain": [
       "0.3742851724990472"
      ]
     },
     "execution_count": 20,
     "metadata": {},
     "output_type": "execute_result"
    }
   ],
   "source": [
    "# correlate death to new numeric pvh values\n",
    "vlbw.dead.corr(vlbw.ivh.astype('float'))"
   ]
  },
  {
   "cell_type": "markdown",
   "metadata": {},
   "source": [
    "That's a large correlation too."
   ]
  },
  {
   "cell_type": "code",
   "execution_count": 21,
   "metadata": {},
   "outputs": [
    {
     "data": {
      "text/plain": [
       "absent      374\n",
       "definite     29\n",
       "possible     14\n",
       "Name: ipe, dtype: int64"
      ]
     },
     "execution_count": 21,
     "metadata": {},
     "output_type": "execute_result"
    }
   ],
   "source": [
    "# see how many of each category\n",
    "vlbw.ipe.value_counts()"
   ]
  },
  {
   "cell_type": "code",
   "execution_count": 22,
   "metadata": {},
   "outputs": [],
   "source": [
    "# replace categories with numeric levels based on confidence of pvh diagnosis\n",
    "vlbw.loc[vlbw.ipe=='absent', 'ipe'] = 0\n",
    "vlbw.loc[vlbw.ipe=='possible', 'ipe'] = 1\n",
    "vlbw.loc[vlbw.ipe=='definite', 'ipe'] = 2"
   ]
  },
  {
   "cell_type": "code",
   "execution_count": 23,
   "metadata": {},
   "outputs": [
    {
     "data": {
      "text/plain": [
       "0    374\n",
       "2     29\n",
       "1     14\n",
       "Name: ipe, dtype: int64"
      ]
     },
     "execution_count": 23,
     "metadata": {},
     "output_type": "execute_result"
    }
   ],
   "source": [
    "# now levels should be 0, 1, 2\n",
    "vlbw.ipe.value_counts()"
   ]
  },
  {
   "cell_type": "code",
   "execution_count": 24,
   "metadata": {},
   "outputs": [
    {
     "data": {
      "text/plain": [
       "0.1210600680990267"
      ]
     },
     "execution_count": 24,
     "metadata": {},
     "output_type": "execute_result"
    }
   ],
   "source": [
    "# correlate death to new numeric pvh values\n",
    "vlbw.dead.corr(vlbw.ipe.astype('float'))"
   ]
  },
  {
   "cell_type": "markdown",
   "metadata": {},
   "source": [
    "Smaller for IPE, but still there"
   ]
  },
  {
   "cell_type": "markdown",
   "metadata": {},
   "source": [
    "Now the problem with these values (`pvh`, `ivh`, `ipe`) will be imputation.  How do we impute 120 values in a dataset of 500?  Random sampling introduces noise, but assuming absence could also yield false negatives."
   ]
  },
  {
   "cell_type": "code",
   "execution_count": 25,
   "metadata": {},
   "outputs": [],
   "source": [
    "# make sure the columns are numeric datatype before moving on\n",
    "vlbw.loc[:,'pvh'] = vlbw.pvh.astype('float64', inplace=True)\n",
    "vlbw.loc[:,'ivh'] = vlbw.ivh.astype('float64', inplace=True)\n",
    "vlbw.loc[:,'ipe'] = vlbw.ipe.astype('float64', inplace=True)"
   ]
  },
  {
   "cell_type": "markdown",
   "metadata": {},
   "source": [
    "---\n",
    "#### Check out other categorical variables and see how to convert to numeric"
   ]
  },
  {
   "cell_type": "code",
   "execution_count": 26,
   "metadata": {},
   "outputs": [
    {
     "data": {
      "text/plain": [
       "race        object\n",
       "inout       object\n",
       "delivery    object\n",
       "sex         object\n",
       "dtype: object"
      ]
     },
     "execution_count": 26,
     "metadata": {},
     "output_type": "execute_result"
    }
   ],
   "source": [
    "# features that are still categorical\n",
    "vlbw.dtypes[vlbw.dtypes=='object']"
   ]
  },
  {
   "cell_type": "code",
   "execution_count": 27,
   "metadata": {},
   "outputs": [
    {
     "data": {
      "text/plain": [
       "black              305\n",
       "white              196\n",
       "native American     13\n",
       "oriental             3\n",
       "Name: race, dtype: int64"
      ]
     },
     "execution_count": 27,
     "metadata": {},
     "output_type": "execute_result"
    }
   ],
   "source": [
    "vlbw.race.value_counts()"
   ]
  },
  {
   "cell_type": "code",
   "execution_count": 28,
   "metadata": {},
   "outputs": [
    {
     "data": {
      "text/plain": [
       "born at Duke    437\n",
       "transported      99\n",
       "Name: inout, dtype: int64"
      ]
     },
     "execution_count": 28,
     "metadata": {},
     "output_type": "execute_result"
    }
   ],
   "source": [
    "vlbw.inout.value_counts()"
   ]
  },
  {
   "cell_type": "code",
   "execution_count": 29,
   "metadata": {},
   "outputs": [
    {
     "data": {
      "text/plain": [
       "vaginal      271\n",
       "abdominal    245\n",
       "Name: delivery, dtype: int64"
      ]
     },
     "execution_count": 29,
     "metadata": {},
     "output_type": "execute_result"
    }
   ],
   "source": [
    "vlbw.delivery.value_counts()"
   ]
  },
  {
   "cell_type": "code",
   "execution_count": 30,
   "metadata": {},
   "outputs": [
    {
     "data": {
      "text/plain": [
       "male      262\n",
       "female    256\n",
       "Name: sex, dtype: int64"
      ]
     },
     "execution_count": 30,
     "metadata": {},
     "output_type": "execute_result"
    }
   ],
   "source": [
    "vlbw.sex.value_counts()"
   ]
  },
  {
   "cell_type": "code",
   "execution_count": 31,
   "metadata": {},
   "outputs": [],
   "source": [
    "def numerize(df, col, drop=True):\n",
    "    '''\n",
    "    make categorical data numeric from 0 - n categories\n",
    "        df = dataframe\n",
    "        col = column to numerize into n_categories columns\n",
    "        drop = drop original column or retain in df?\n",
    "    '''\n",
    "    temp = df.copy(deep=True) # copy df so you don't affect it\n",
    "    \n",
    "    for cat in temp[col].unique():\n",
    "        # for each categorical value, create a new column with binary values for T/F\n",
    "        temp[col+'_'+str(cat)] = (temp[col]==cat)*1\n",
    "        \n",
    "    if drop:\n",
    "        return temp.drop(col, axis=1)\n",
    "    \n",
    "    else:\n",
    "        return temp"
   ]
  },
  {
   "cell_type": "code",
   "execution_count": 32,
   "metadata": {},
   "outputs": [],
   "source": [
    "# perform numerization on whole dataset\n",
    "for feature, datatype in zip(vlbw.dtypes.index, vlbw.dtypes):\n",
    "    if datatype == 'object':\n",
    "        vlbw = numerize(vlbw, feature)"
   ]
  },
  {
   "cell_type": "code",
   "execution_count": 33,
   "metadata": {},
   "outputs": [
    {
     "data": {
      "text/plain": [
       "birth                   float64\n",
       "exit                    float64\n",
       "hospstay                float64\n",
       "lowph                   float64\n",
       "pltct                   float64\n",
       "bwt                     float64\n",
       "gest                    float64\n",
       "twn                     float64\n",
       "lol                     float64\n",
       "magsulf                 float64\n",
       "meth                    float64\n",
       "toc                     float64\n",
       "apg1                    float64\n",
       "vent                    float64\n",
       "pneumo                  float64\n",
       "pda                     float64\n",
       "cld                     float64\n",
       "pvh                     float64\n",
       "ivh                     float64\n",
       "ipe                     float64\n",
       "year                    float64\n",
       "dead                      int64\n",
       "race_white                int64\n",
       "race_black                int64\n",
       "race_nan                  int64\n",
       "race_native American      int64\n",
       "race_oriental             int64\n",
       "inout_born at Duke        int64\n",
       "inout_transported         int64\n",
       "inout_nan                 int64\n",
       "delivery_abdominal        int64\n",
       "delivery_vaginal          int64\n",
       "delivery_nan              int64\n",
       "sex_female                int64\n",
       "sex_male                  int64\n",
       "sex_nan                   int64\n",
       "dtype: object"
      ]
     },
     "execution_count": 33,
     "metadata": {},
     "output_type": "execute_result"
    }
   ],
   "source": [
    "# look at resulting features\n",
    "# should be more than we started with, as data is now in long-form\n",
    "vlbw.dtypes"
   ]
  },
  {
   "cell_type": "code",
   "execution_count": 34,
   "metadata": {},
   "outputs": [],
   "source": [
    "# save the 'numerified' data as .csv file\n",
    "vlbw.to_csv('data/vlbw_train_numeric.csv', index=False)"
   ]
  },
  {
   "cell_type": "markdown",
   "metadata": {},
   "source": [
    "---\n",
    "#### 2. impute missing values with mode of each feature\n",
    "might not be the best strategy for dealing with `NaN`s, but let's just see how a PCA looks "
   ]
  },
  {
   "cell_type": "code",
   "execution_count": 40,
   "metadata": {},
   "outputs": [
    {
     "data": {
      "text/plain": [
       "pltct     57\n",
       "lol      182\n",
       "cld       56\n",
       "pvh      121\n",
       "ivh      120\n",
       "ipe      120\n",
       "dtype: int64"
      ]
     },
     "execution_count": 40,
     "metadata": {},
     "output_type": "execute_result"
    }
   ],
   "source": [
    "# look at features with high number of missing observations (~>10% of total observations)\n",
    "vlbw.isnull().sum()[vlbw.isnull().sum()>55]"
   ]
  },
  {
   "cell_type": "code",
   "execution_count": 43,
   "metadata": {},
   "outputs": [],
   "source": [
    "# fill NaNs with mode value of each column\n",
    "vlbw_filled = SimpleImputer(strategy='most_frequent').fit_transform(vlbw)"
   ]
  },
  {
   "cell_type": "code",
   "execution_count": 44,
   "metadata": {},
   "outputs": [],
   "source": [
    "# normalize each column to fractional representation between 0 and 1\n",
    "vlbw_filled_norm = normalize(vlbw_filled, axis=1, norm='l1')"
   ]
  },
  {
   "cell_type": "markdown",
   "metadata": {},
   "source": [
    "---\n",
    "#### 3. look at principal components and see where highest explained variance lies"
   ]
  },
  {
   "cell_type": "code",
   "execution_count": 45,
   "metadata": {},
   "outputs": [],
   "source": [
    "# perform principal component analysis on entire imputed dataset\n",
    "vlbw_PCA_fit = PCA(n_components=5).fit(vlbw_filled_norm)\n",
    "vlbw_PCA = vlbw_PCA_fit.transform(vlbw_filled_norm)"
   ]
  },
  {
   "cell_type": "code",
   "execution_count": 46,
   "metadata": {},
   "outputs": [
    {
     "data": {
      "image/png": "[encoded data removed]",
      "text/plain": [
       "<Figure size 720x360 with 2 Axes>"
      ]
     },
     "metadata": {
      "needs_background": "light"
     },
     "output_type": "display_data"
    }
   ],
   "source": [
    "# plot PCA results for first two PCs, colored by desired label (live birth)\n",
    "plt.figure(figsize=(10,5))\n",
    "\n",
    "plt.subplot(121)\n",
    "sns.scatterplot(x=vlbw_PCA[:,0], y=vlbw_PCA[:,1], s=75, alpha=0.7, hue=vlbw['dead'], legend=None, edgecolor='none')\n",
    "plt.tick_params(labelbottom=False, labelleft=False)\n",
    "plt.ylabel('PC2', fontsize=14)\n",
    "plt.xlabel('PC1', fontsize=14)\n",
    "plt.title('PCA', fontsize=16)\n",
    "\n",
    "plt.subplot(122)\n",
    "plt.plot(np.cumsum(np.round(vlbw_PCA_fit.explained_variance_ratio_, decimals=3)*100))\n",
    "plt.tick_params(labelsize=12)\n",
    "plt.ylabel('% Variance Explained', fontsize=14)\n",
    "plt.xlabel('# of Features', fontsize=14)\n",
    "plt.title('PCA Analysis', fontsize=16)\n",
    "\n",
    "sns.despine()\n",
    "plt.tight_layout()\n",
    "plt.show()"
   ]
  },
  {
   "cell_type": "code",
   "execution_count": 47,
   "metadata": {},
   "outputs": [
    {
     "data": {
      "text/plain": [
       "bwt                      1.0\n",
       "delivery_abdominal       2.0\n",
       "race_white               3.0\n",
       "twn                      4.0\n",
       "meth                     5.0\n",
       "race_native American     6.0\n",
       "sex_nan                  8.5\n",
       "delivery_nan             8.5\n",
       "inout_nan                8.5\n",
       "race_nan                 8.5\n",
       "race_oriental           11.0\n",
       "magsulf                 12.0\n",
       "toc                     13.0\n",
       "inout_transported       14.0\n",
       "sex_female              15.0\n",
       "pneumo                  16.0\n",
       "sex_male                17.0\n",
       "ipe                     18.0\n",
       "pda                     19.0\n",
       "ivh                     20.0\n",
       "pvh                     21.0\n",
       "inout_born at Duke      22.0\n",
       "race_black              23.0\n",
       "delivery_vaginal        24.0\n",
       "cld                     25.0\n",
       "dead                    26.0\n",
       "apg1                    27.0\n",
       "vent                    28.0\n",
       "lowph                   29.0\n",
       "gest                    30.0\n",
       "lol                     31.0\n",
       "exit                    32.0\n",
       "birth                   33.0\n",
       "year                    34.0\n",
       "hospstay                35.0\n",
       "pltct                   36.0\n",
       "Name: 0, dtype: float64"
      ]
     },
     "execution_count": 47,
     "metadata": {},
     "output_type": "execute_result"
    }
   ],
   "source": [
    "# we can extract the contribution of each feature to each PC\n",
    "PCfeatures = pd.DataFrame(vlbw_PCA_fit.components_, columns=vlbw.columns)\n",
    "# look at top 10 features that contribute to PC1, in descending order\n",
    "PCfeatures.iloc[0,:].rank().sort_values()"
   ]
  },
  {
   "cell_type": "markdown",
   "metadata": {},
   "source": [
    "Looks like birthweight and abdominal delivery are the two largest contributors to live birth from this dataset.  \n",
    "\n",
    "---\n",
    "Next steps to try:\n",
    "* eliminate 'noisy' features with low contributions to first few PCs\n",
    "* think about other ways to eliminate or impute `NaN` values - this was just a first-pass\n",
    "* start researching [supervised approaches](https://scikit-learn.org/stable/supervised_learning.html) to start fitting to this dataset "
   ]
  },
  {
   "cell_type": "code",
   "execution_count": null,
   "metadata": {},
   "outputs": [],
   "source": []
  }
 ],
 "metadata": {
  "kernelspec": {
   "display_name": "Python 3",
   "language": "python",
   "name": "python3"
  },
  "language_info": {
   "codemirror_mode": {
    "name": "ipython",
    "version": 3
   },
   "file_extension": ".py",
   "mimetype": "text/x-python",
   "name": "python",
   "nbconvert_exporter": "python",
   "pygments_lexer": "ipython3",
   "version": "3.6.5"
  }
 },
 "nbformat": 4,
 "nbformat_minor": 2
}
